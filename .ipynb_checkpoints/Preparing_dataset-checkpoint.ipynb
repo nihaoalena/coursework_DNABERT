{
 "cells": [
  {
   "cell_type": "markdown",
   "metadata": {},
   "source": [
    "## Data"
   ]
  },
  {
   "cell_type": "markdown",
   "metadata": {},
   "source": [
    "The data is downlodaded from Chip-Atlas."
   ]
  },
  {
   "cell_type": "code",
   "execution_count": 1,
   "metadata": {},
   "outputs": [
    {
     "name": "stderr",
     "output_type": "stream",
     "text": [
      "/Users/alena/.pyenv/versions/3.7.3/lib/python3.7/site-packages/pandas/compat/__init__.py:117: UserWarning: Could not import the lzma module. Your installed Python is incomplete. Attempting to use lzma compression will result in a RuntimeError.\n",
      "  warnings.warn(msg)\n"
     ]
    }
   ],
   "source": [
    "import pandas as pd\n",
    "import numpy as np\n",
    "import plotly.express as px\n",
    "import matplotlib.pyplot as plt\n",
    "import seaborn as sns\n",
    "from Bio import SeqIO\n",
    "from Bio.SeqRecord import SeqRecord\n",
    "from random import randint\n",
    "import math\n",
    "import itertools\n",
    "import re\n",
    "from pyfaidx import Fasta\n",
    "import argparse\n",
    "import csv\n",
    "import os\n",
    "import random\n",
    "import sys"
   ]
  },
  {
   "cell_type": "code",
   "execution_count": 2,
   "metadata": {},
   "outputs": [],
   "source": [
    "plt.style.use('ggplot')"
   ]
  },
  {
   "cell_type": "markdown",
   "metadata": {},
   "source": [
    "# Generating positive samples"
   ]
  },
  {
   "cell_type": "markdown",
   "metadata": {},
   "source": [
    "I remove intersecting sequences from the source file so that the same sequences do not fall into train and dev, using bedtools merge\n"
   ]
  },
  {
   "cell_type": "code",
   "execution_count": 3,
   "metadata": {},
   "outputs": [],
   "source": [
    "%%bash\n",
    "bedtools merge -i 1_His.ALL.50.H2APERIODZ.AllCell.bed > 2_no_overlap.bed -c 1 -o count"
   ]
  },
  {
   "cell_type": "markdown",
   "metadata": {},
   "source": [
    "## EDA"
   ]
  },
  {
   "cell_type": "markdown",
   "metadata": {},
   "source": [
    "Then I explore the lengths of ChIP seq data"
   ]
  },
  {
   "cell_type": "code",
   "execution_count": 4,
   "metadata": {},
   "outputs": [],
   "source": [
    "%%bash\n",
    "awk '{print($3-$2)}' 2_no_overlap.bed  > lengths500.txt"
   ]
  },
  {
   "cell_type": "code",
   "execution_count": 5,
   "metadata": {},
   "outputs": [],
   "source": [
    "df = pd.read_csv('lengths500.txt')"
   ]
  },
  {
   "cell_type": "code",
   "execution_count": 6,
   "metadata": {},
   "outputs": [
    {
     "data": {
      "text/plain": [
       "(29284, 1)"
      ]
     },
     "execution_count": 6,
     "metadata": {},
     "output_type": "execute_result"
    }
   ],
   "source": [
    "df.shape"
   ]
  },
  {
   "cell_type": "code",
   "execution_count": 7,
   "metadata": {},
   "outputs": [
    {
     "data": {
      "text/plain": [
       "(37, 3100)"
      ]
     },
     "execution_count": 7,
     "metadata": {},
     "output_type": "execute_result"
    }
   ],
   "source": [
    "df.min()[0], df.max()[0]"
   ]
  },
  {
   "cell_type": "code",
   "execution_count": 8,
   "metadata": {},
   "outputs": [
    {
     "data": {
      "text/plain": [
       "(421.0, 507.2664936484087)"
      ]
     },
     "execution_count": 8,
     "metadata": {},
     "output_type": "execute_result"
    }
   ],
   "source": [
    "df.median()[0], df.mean()[0]"
   ]
  },
  {
   "cell_type": "code",
   "execution_count": 9,
   "metadata": {},
   "outputs": [
    {
     "data": {
      "text/plain": [
       "lengths    325.622191\n",
       "dtype: float64"
      ]
     },
     "execution_count": 9,
     "metadata": {},
     "output_type": "execute_result"
    }
   ],
   "source": [
    "df.std()"
   ]
  },
  {
   "cell_type": "code",
   "execution_count": 10,
   "metadata": {},
   "outputs": [
    {
     "data": {
      "text/html": [
       "<div>\n",
       "<style scoped>\n",
       "    .dataframe tbody tr th:only-of-type {\n",
       "        vertical-align: middle;\n",
       "    }\n",
       "\n",
       "    .dataframe tbody tr th {\n",
       "        vertical-align: top;\n",
       "    }\n",
       "\n",
       "    .dataframe thead th {\n",
       "        text-align: right;\n",
       "    }\n",
       "</style>\n",
       "<table border=\"1\" class=\"dataframe\">\n",
       "  <thead>\n",
       "    <tr style=\"text-align: right;\">\n",
       "      <th></th>\n",
       "      <th>lengths</th>\n",
       "    </tr>\n",
       "  </thead>\n",
       "  <tbody>\n",
       "    <tr>\n",
       "      <th>0</th>\n",
       "      <td>626</td>\n",
       "    </tr>\n",
       "    <tr>\n",
       "      <th>1</th>\n",
       "      <td>1318</td>\n",
       "    </tr>\n",
       "    <tr>\n",
       "      <th>2</th>\n",
       "      <td>445</td>\n",
       "    </tr>\n",
       "    <tr>\n",
       "      <th>3</th>\n",
       "      <td>274</td>\n",
       "    </tr>\n",
       "    <tr>\n",
       "      <th>4</th>\n",
       "      <td>343</td>\n",
       "    </tr>\n",
       "  </tbody>\n",
       "</table>\n",
       "</div>"
      ],
      "text/plain": [
       "   lengths\n",
       "0      626\n",
       "1     1318\n",
       "2      445\n",
       "3      274\n",
       "4      343"
      ]
     },
     "execution_count": 10,
     "metadata": {},
     "output_type": "execute_result"
    }
   ],
   "source": [
    "df.head(5)"
   ]
  },
  {
   "cell_type": "code",
   "execution_count": 12,
   "metadata": {},
   "outputs": [
    {
     "data": {
      "image/png": "[encoded data removed]",
      "text/plain": [
       "<Figure size 640x480 with 1 Axes>"
      ]
     },
     "metadata": {},
     "output_type": "display_data"
    }
   ],
   "source": [
    "sns.histplot(data=df, x='lengths')\n",
    "plt.show()"
   ]
  },
  {
   "cell_type": "code",
   "execution_count": 14,
   "metadata": {},
   "outputs": [
    {
     "data": {
      "image/png": "[encoded data removed]",
      "text/plain": [
       "<Figure size 640x480 with 1 Axes>"
      ]
     },
     "metadata": {},
     "output_type": "display_data"
    }
   ],
   "source": [
    "sns.boxplot(data=df, x='lengths')\n",
    "plt.show()"
   ]
  },
  {
   "cell_type": "markdown",
   "metadata": {},
   "source": [
    "In total, there are 29 284 positive sequences "
   ]
  },
  {
   "cell_type": "markdown",
   "metadata": {},
   "source": [
    "## Centering"
   ]
  },
  {
   "cell_type": "code",
   "execution_count": 15,
   "metadata": {},
   "outputs": [],
   "source": [
    "file1 = open('2_no_overlap.bed', 'r')\n",
    "file2 = open('3_centered_beds.bed', 'w')"
   ]
  },
  {
   "cell_type": "code",
   "execution_count": 16,
   "metadata": {},
   "outputs": [],
   "source": [
    "for line in file1:\n",
    "    l = line.split('\\t')\n",
    "    diff = int(l[2]) - int(l[1])\n",
    "    b = math.floor((diff - 300) / 2)\n",
    "    if diff % 2 == 0:\n",
    "        print(l[0], int(l[1]) + b, int(l[2]) - b, sep='\\t', file=file2)\n",
    "    else:\n",
    "        print(l[0], int(l[1]) + b, int(l[2]) - b - 1, sep='\\t', file=file2)"
   ]
  },
  {
   "cell_type": "markdown",
   "metadata": {},
   "source": [
    "## Converting to fasta"
   ]
  },
  {
   "cell_type": "code",
   "execution_count": 19,
   "metadata": {},
   "outputs": [],
   "source": [
    "%%bash\n",
    "bedtools getfasta -fi hg38.fa -bed 3_centered_beds.bed -fo 4_centered_fasta.fasta"
   ]
  },
  {
   "cell_type": "markdown",
   "metadata": {},
   "source": [
    "## Drop unneeded elements"
   ]
  },
  {
   "cell_type": "code",
   "execution_count": 20,
   "metadata": {},
   "outputs": [],
   "source": [
    "%%bash\n",
    "awk '!/>/ {print}' 4_centered_fasta.fasta > 5_centered_fasta_wo.fasta"
   ]
  },
  {
   "cell_type": "code",
   "execution_count": 21,
   "metadata": {},
   "outputs": [],
   "source": [
    "%%bash\n",
    "awk '!/N/ {print}' 5_centered_fasta_wo.fasta > 6_centered_fasta_wo_N.fasta"
   ]
  },
  {
   "cell_type": "markdown",
   "metadata": {},
   "source": [
    "## Upper letters"
   ]
  },
  {
   "cell_type": "code",
   "execution_count": 22,
   "metadata": {},
   "outputs": [],
   "source": [
    "%%bash\n",
    "awk '{print toupper($0)}' 6_centered_fasta_wo_N.fasta > 7_final_positive_fasta.fasta"
   ]
  },
  {
   "cell_type": "markdown",
   "metadata": {},
   "source": [
    "## Generate negative samples"
   ]
  },
  {
   "cell_type": "markdown",
   "metadata": {},
   "source": [
    "## 1. From genome"
   ]
  },
  {
   "cell_type": "markdown",
   "metadata": {},
   "source": [
    "Take the subset from genome. Mask overlapped fragment"
   ]
  },
  {
   "cell_type": "code",
   "execution_count": 23,
   "metadata": {},
   "outputs": [],
   "source": [
    "%%bash\n",
    "bedtools maskfasta -fi hg38.fa -bed 1_His.ALL.50.H2APERIODZ.AllCell.bed -fo masked_hg38.fa -mc X"
   ]
  },
  {
   "cell_type": "markdown",
   "metadata": {},
   "source": [
    "Drop >chr"
   ]
  },
  {
   "cell_type": "code",
   "execution_count": 24,
   "metadata": {},
   "outputs": [],
   "source": [
    "%%bash\n",
    "awk '!/>/ {print}' masked_hg38.fa > joint_hg38.fasta"
   ]
  },
  {
   "cell_type": "markdown",
   "metadata": {},
   "source": [
    "Add the first line >hg38"
   ]
  },
  {
   "cell_type": "code",
   "execution_count": 25,
   "metadata": {},
   "outputs": [],
   "source": [
    "%%bash\n",
    "awk 'NR==1{$0=\">hg38\"RS$0}7' joint_hg38.fasta > 2_joint_hg38.fasta"
   ]
  },
  {
   "cell_type": "markdown",
   "metadata": {},
   "source": [
    "Cut random pieces from hg38"
   ]
  },
  {
   "cell_type": "code",
   "execution_count": 26,
   "metadata": {},
   "outputs": [],
   "source": [
    "record = SeqIO.read('2_joint_hg38.fasta', 'fasta')"
   ]
  },
  {
   "cell_type": "code",
   "execution_count": 27,
   "metadata": {},
   "outputs": [
    {
     "data": {
      "text/plain": [
       "35001"
      ]
     },
     "execution_count": 27,
     "metadata": {},
     "output_type": "execute_result"
    }
   ],
   "source": [
    "frags = []\n",
    "limit = len(record.seq)\n",
    "for i in range(0, 35001): \n",
    "    start = randint(0, limit - 512)\n",
    "    end = start + 512\n",
    "    frag = record.seq[start:end]\n",
    "    seqrecord = SeqRecord(frag, \"fragment_%i\" % (i + 1), \"\", \"\")\n",
    "    frags.append(seqrecord)\n",
    "\n",
    "SeqIO.write(frags, 'negseq.fasta', 'fasta-2line')"
   ]
  },
  {
   "cell_type": "markdown",
   "metadata": {},
   "source": [
    "To upper"
   ]
  },
  {
   "cell_type": "code",
   "execution_count": 28,
   "metadata": {},
   "outputs": [],
   "source": [
    "%%bash\n",
    "awk '{print toupper($0)}' negseq.fasta > negseq_1.fasta"
   ]
  },
  {
   "cell_type": "markdown",
   "metadata": {},
   "source": [
    "Drop fragements with N and X and >"
   ]
  },
  {
   "cell_type": "code",
   "execution_count": 29,
   "metadata": {},
   "outputs": [],
   "source": [
    "%%bash\n",
    "awk '!/>/ {print}' negseq_1.fasta > negseq_2.fasta"
   ]
  },
  {
   "cell_type": "code",
   "execution_count": 30,
   "metadata": {},
   "outputs": [],
   "source": [
    "%%bash\n",
    "awk '!/X/ {print}' negseq_2.fasta > negseq_3.fasta"
   ]
  },
  {
   "cell_type": "code",
   "execution_count": 31,
   "metadata": {},
   "outputs": [],
   "source": [
    "%%bash\n",
    "awk '!/N/ {print}' negseq_3.fasta > negseq_4.fasta"
   ]
  },
  {
   "cell_type": "markdown",
   "metadata": {},
   "source": [
    "Balance classes. I cut the file with negative sequences to the number of positive ones, 13123"
   ]
  },
  {
   "cell_type": "code",
   "execution_count": 32,
   "metadata": {},
   "outputs": [],
   "source": [
    "%%bash\n",
    "awk '{print $0} NR==28356{exit}' negseq_4.fasta > neg_seq_final_5.fasta"
   ]
  },
  {
   "cell_type": "markdown",
   "metadata": {},
   "source": [
    "## Negative samples generating based on the DeePromotor method"
   ]
  },
  {
   "cell_type": "code",
   "execution_count": 33,
   "metadata": {},
   "outputs": [],
   "source": [
    "def save_txt(seq_list, new_filepath):\n",
    "    with open(new_filepath, \"w\") as f:\n",
    "        f.write(\"\\n\".join(seq_list))\n",
    "\n",
    "\n",
    "def read_txt(filepath):\n",
    "    with open(filepath) as f:\n",
    "        seq_list = f.read().splitlines()\n",
    "    return seq_list"
   ]
  },
  {
   "cell_type": "code",
   "execution_count": 34,
   "metadata": {},
   "outputs": [],
   "source": [
    "def get_neg_seq(pos_seq, num_part=20, keep=8):\n",
    "    \"\"\"\n",
    "    Split the positive sequence into 20 parts, and randomly select 8 parts to keep. The remaining\n",
    "    12 parts are replaced by random sequences. Adapted from https://github.com/egochao/DeePromoter\n",
    "    \n",
    "    :param pos_seq: the positive sequence\n",
    "    :param num_part: the number of parts to split the sequence into, defaults to 20 (optional)\n",
    "    :param keep: the number of parts of the sequence to keep, defaults to 8 (optional)\n",
    "    :return: A string of the same length as the input sequence, but with some of the bases randomly\n",
    "    replaced.\n",
    "    \"\"\"\n",
    "\n",
    "    length = len(pos_seq)\n",
    "    part_len = length // num_part\n",
    "    if part_len * num_part < length:\n",
    "        num_part += 1\n",
    "\n",
    "    iterator = np.arange(num_part)\n",
    "    keep_parts = random.sample(list(iterator), k=keep)\n",
    "\n",
    "    outpro = list()\n",
    "    for it in iterator:\n",
    "        start = it * part_len\n",
    "        pro_part = pos_seq[start : start + part_len]\n",
    "        if it in keep_parts:\n",
    "            outpro.extend(pro_part)\n",
    "        else:\n",
    "            pro_part = random.choices([\"A\", \"C\", \"G\", \"T\"], k=len(pro_part))\n",
    "            outpro.extend(pro_part)\n",
    "\n",
    "    return \"\".join(outpro)"
   ]
  },
  {
   "cell_type": "code",
   "execution_count": 35,
   "metadata": {},
   "outputs": [],
   "source": [
    "def generate_neg(pos_data):\n",
    "    \"\"\"\n",
    "    For each sequence in the positive data, generate a negative sequence by randomly shuffling the\n",
    "    positive sequence\n",
    "    \n",
    "    :param pos_data: a list of positive sequences\n",
    "    :return: A list of negative sequences.\n",
    "    \"\"\"\n",
    "    neg_data = []\n",
    "    for pos_seq in pos_data:\n",
    "        neg_seq = get_neg_seq(pos_seq)\n",
    "        neg_data.append(neg_seq)\n",
    "    return neg_data"
   ]
  },
  {
   "cell_type": "code",
   "execution_count": 36,
   "metadata": {},
   "outputs": [],
   "source": [
    "def extract_seq(ref_genome, chrx, start, end):\n",
    "    return ref_genome[chrx][start:end].seq.upper()"
   ]
  },
  {
   "cell_type": "code",
   "execution_count": 37,
   "metadata": {},
   "outputs": [],
   "source": [
    "# Generate negative sequences of H2AZ following DeePromoter methodology\n",
    "pos_txt = \"7_final_positive_fasta.fasta\"\n",
    "pos_data = read_txt(pos_txt)\n",
    "neg_data = generate_neg(pos_data)\n",
    "filepath = \"neg_seq_deePromoter.fasta\"\n",
    "save_txt(neg_data, filepath)"
   ]
  },
  {
   "cell_type": "markdown",
   "metadata": {},
   "source": [
    "## Preparing final files"
   ]
  },
  {
   "cell_type": "code",
   "execution_count": 38,
   "metadata": {},
   "outputs": [],
   "source": [
    "def get_kmer_sentence(original_string, kmer=1, stride=1):\n",
    "    \"\"\"\n",
    "    Convert to kmer format for DNABERT \n",
    "    \"\"\"\n",
    "    if kmer == -1:\n",
    "        return original_string\n",
    "\n",
    "    sentence = \"\"\n",
    "    original_string = original_string.replace(\"\\n\", \"\")\n",
    "    i = 0\n",
    "    while i < len(original_string) - kmer:\n",
    "        sentence += original_string[i : i + kmer] + \" \"\n",
    "        i += stride\n",
    "\n",
    "    return sentence[:-1].strip('\"')"
   ]
  },
  {
   "cell_type": "code",
   "execution_count": 39,
   "metadata": {},
   "outputs": [],
   "source": [
    "def write_file(lines, path, kmer=6, head=True, seq_index=0, label_index=1):\n",
    "    \"\"\"\n",
    "    It takes a list of lists, where each list is a line of a file, and writes it to a file\n",
    "    \n",
    "    :param lines: the lines to write to the file\n",
    "    :param path: the path to the file you want to write to\n",
    "    :param kmer: the length of the k-mer. If kmer is 0, then the whole sequence is used\n",
    "    :param head: whether to write the header or not, defaults to True (optional)\n",
    "    :param seq_index: the index of the sequence in the line, defaults to 0 (optional)\n",
    "    :param label_index: the index of the label in the line, defaults to 1 (optional)\n",
    "    \"\"\"\n",
    "    with open(path, \"wt\") as f:\n",
    "        tsv_w = csv.writer(f, delimiter=\"\\t\")\n",
    "        if head:\n",
    "            tsv_w.writerow([\"sentence\", \"label\"])\n",
    "        for line in lines:\n",
    "            if kmer == 0:\n",
    "                sentence = str(line[seq_index])\n",
    "            else:\n",
    "                sentence = str(get_kmer_sentence(\"\".join(line[seq_index].split()), kmer))\n",
    "            if label_index is None:\n",
    "                label = \"0\"\n",
    "            else:\n",
    "                label = str(line[label_index])\n",
    "            tsv_w.writerow([sentence, label])"
   ]
  },
  {
   "cell_type": "code",
   "execution_count": 40,
   "metadata": {},
   "outputs": [],
   "source": [
    "def Generate_prom_train_dev(neg_seq, pos_seq, valtest_percentage):\n",
    "\n",
    "    seq = read_txt(neg_seq)\n",
    "    n_neg_seq = len(seq)\n",
    "    seq = seq + read_txt(pos_seq)\n",
    "    seq_lbl = [0] * n_neg_seq + [1] * (len(seq) - n_neg_seq)\n",
    "    seq = [list(x) for x in zip(seq, seq_lbl)]\n",
    "\n",
    "    # shuffle all the data and split them\n",
    "    random.shuffle(seq)\n",
    "    num_seq_test = int(len(seq) * float(valtest_percentage))\n",
    "    val_lines = seq[:num_seq_test]\n",
    "    train_lines = seq[num_seq_test:] \n",
    "    \n",
    "    # Save the files\n",
    "    write_file(train_lines, \"train.tsv\")\n",
    "    write_file(val_lines, \"dev.tsv\")\n",
    "    #write_file(test_lines, \"test.tsv\")"
   ]
  },
  {
   "cell_type": "markdown",
   "metadata": {},
   "source": [
    "Whole genome"
   ]
  },
  {
   "cell_type": "code",
   "execution_count": 41,
   "metadata": {},
   "outputs": [],
   "source": [
    "neg_seq = 'neg_seq_final_5.fasta'\n",
    "pos_seq = '7_final_positive_fasta.fasta'\n",
    "Generate_prom_train_dev(neg_seq, pos_seq, 0.2)"
   ]
  },
  {
   "cell_type": "markdown",
   "metadata": {},
   "source": [
    "DeePromoter-like "
   ]
  },
  {
   "cell_type": "code",
   "execution_count": 42,
   "metadata": {},
   "outputs": [],
   "source": [
    "neg_seq = 'neg_seq_deePromoter.fasta'\n",
    "pos_seq = '7_final_positive_fasta.fasta'\n",
    "Generate_prom_train_dev(neg_seq, pos_seq, 0.2)"
   ]
  },
  {
   "cell_type": "code",
   "execution_count": null,
   "metadata": {},
   "outputs": [],
   "source": []
  }
 ],
 "metadata": {
  "kernelspec": {
   "display_name": "Python 3",
   "language": "python",
   "name": "python3"
  },
  "language_info": {
   "codemirror_mode": {
    "name": "ipython",
    "version": 3
   },
   "file_extension": ".py",
   "mimetype": "text/x-python",
   "name": "python",
   "nbconvert_exporter": "python",
   "pygments_lexer": "ipython3",
   "version": "3.7.3"
  }
 },
 "nbformat": 4,
 "nbformat_minor": 4
}
